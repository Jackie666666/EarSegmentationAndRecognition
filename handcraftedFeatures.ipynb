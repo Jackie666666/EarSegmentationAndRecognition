{
 "cells": [
  {
   "cell_type": "code",
   "execution_count": 14,
   "metadata": {},
   "outputs": [],
   "source": [
    "import numpy as np\n",
    "import os\n",
    "import matplotlib.pyplot as plt\n",
    "from sklearn.model_selection import train_test_split\n",
    "from sklearn.svm import SVC\n",
    "import json\n",
    "import pathlib\n",
    "import csv\n",
    "import random\n",
    "from preprocessing.preprocessClassifier import load_image, normalize, Augment\n",
    "from skimage import feature\n",
    "from skimage import exposure\n",
    "import cv2\n",
    "from tqdm import tqdm"
   ]
  },
  {
   "cell_type": "code",
   "execution_count": 15,
   "metadata": {},
   "outputs": [],
   "source": [
    "BASE_PATH = \"./data/croppedEars\"\n",
    "TRAIN_DATA_FOLDER = pathlib.Path(BASE_PATH + \"/train\")\n",
    "TEST_DATA_FOLDER = pathlib.Path(BASE_PATH + \"/test\")\n",
    "ANOTATIONS_PATH = \"./data/annotations/recognition/ids.csv\"\n",
    "\n",
    "IMAGE_HEIGHT = 224\n",
    "IMAGE_WIDTH = 224\n",
    "VAL_RATIO = 0.15\n",
    "\n",
    "MODEL_NAME = \"LBP\""
   ]
  },
  {
   "cell_type": "code",
   "execution_count": 16,
   "metadata": {},
   "outputs": [],
   "source": [
    "def filenamesAndLabels(path, train=True):\n",
    "    filenames = [\"train/\"+x for x in os.listdir(path)] if train else [\"test/\"+x for x in os.listdir(path)]\n",
    "    annotationsDict = {}\n",
    "    \n",
    "    with open(ANOTATIONS_PATH) as csv_file:\n",
    "        csv_reader = csv.reader(csv_file, delimiter=',')\n",
    "        for row in csv_reader:\n",
    "            annotationsDict[row[0]] = int(row[1]) - 1\n",
    "    \n",
    "    labels = [annotationsDict[x] for x in filenames]\n",
    "    filenames = [os.path.join(BASE_PATH, x) for x in filenames]\n",
    "    \n",
    "    return filenames, labels"
   ]
  },
  {
   "cell_type": "code",
   "execution_count": 17,
   "metadata": {},
   "outputs": [],
   "source": [
    "filenames, labels = filenamesAndLabels(TRAIN_DATA_FOLDER)\n",
    "\n",
    "filenames_train, filenames_val, labels_train, labels_val = train_test_split(filenames, labels, test_size=VAL_RATIO, \n",
    "                                random_state=42, shuffle=True, stratify=labels)\n",
    "filenames_test, labels_test = filenamesAndLabels(TEST_DATA_FOLDER, train=False)\n"
   ]
  },
  {
   "cell_type": "code",
   "execution_count": 18,
   "metadata": {},
   "outputs": [],
   "source": [
    "def extractLBP(filename):\n",
    "    img = cv2.imread(filename)\n",
    "    img = cv2.cvtColor(img, cv2.COLOR_BGR2GRAY)\n",
    "    img = cv2.resize(img, (IMAGE_HEIGHT, IMAGE_WIDTH))\n",
    "    imgEq = exposure.equalize_hist(img)\n",
    "    lbp = feature.local_binary_pattern(imgEq, P=8, R=2, method=\"uniform\")\n",
    "\n",
    "    # n_bins = int(lbp.max() + 1)\n",
    "    # hist, _ = np.histogram(lbp, density=True, bins=n_bins, range=(0, n_bins))\n",
    "    # return hist\t\n",
    "\n",
    "    finalHist = []\n",
    "    for i in range(0,img.shape[0],8):\n",
    "        for j in range(0,img.shape[1],8):\n",
    "            imageBlock = lbp[i:i+8,j:j+8]\n",
    "            hist,_ = np.histogram(imageBlock, density=True, bins=8)\n",
    "            finalHist.extend(hist)\n",
    "\n",
    "    return np.array(finalHist)/np.linalg.norm(finalHist)"
   ]
  },
  {
   "cell_type": "code",
   "execution_count": 19,
   "metadata": {},
   "outputs": [
    {
     "name": "stderr",
     "output_type": "stream",
     "text": [
      "100%|██████████| 637/637 [01:36<00:00,  6.58it/s]\n"
     ]
    }
   ],
   "source": [
    "X_train = []\n",
    "for currFile in tqdm(filenames_train):\n",
    "    featureVec = extractLBP(currFile)\n",
    "    X_train.append(featureVec)\n",
    "\n",
    "X_train = np.array(X_train)\n",
    "y_train = np.array(labels_train)"
   ]
  },
  {
   "cell_type": "code",
   "execution_count": 20,
   "metadata": {},
   "outputs": [
    {
     "name": "stderr",
     "output_type": "stream",
     "text": [
      "100%|██████████| 113/113 [00:18<00:00,  6.06it/s]\n"
     ]
    }
   ],
   "source": [
    "X_val = []\n",
    "for currFile in tqdm(filenames_val):\n",
    "    featureVec = extractLBP(currFile)\n",
    "    X_val.append(featureVec)\n",
    "\n",
    "X_val = np.array(X_val)\n",
    "y_val = np.array(labels_val)"
   ]
  },
  {
   "cell_type": "code",
   "execution_count": 21,
   "metadata": {},
   "outputs": [],
   "source": [
    "def evalSVM(X_train, X_test, y_train, kernel=\"rbf\",c=1):\n",
    "    svm = SVC(C=c, kernel=kernel, random_state=42, probability=True)\n",
    "    model = svm.fit(X_train, y_train)\n",
    "    y_pred = model.predict_proba(X_test)\n",
    "    return y_pred"
   ]
  },
  {
   "cell_type": "code",
   "execution_count": 22,
   "metadata": {},
   "outputs": [],
   "source": [
    "def calcRankN(labelsProbs, trueLabel, n=1):\n",
    "    if n >= len(labelsProbs):\n",
    "        print(\"NONE\", n)\n",
    "        return None\n",
    "    sortedProbs = np.argsort(labelsProbs)[::-1]\n",
    "    if trueLabel in sortedProbs[:n]:\n",
    "        return True\n",
    "    else:\n",
    "        return False\n",
    "\n",
    "def displayCMC(ranks, save=False, saveName=\"CMC\"):\n",
    "    plt.plot(np.arange(1,len(ranks)+1), ranks)\n",
    "    plt.title('Cumulative Match Curve')\n",
    "    plt.xlabel('Rank')\n",
    "    plt.ylabel('Probability of identification')\n",
    "    plt.savefig(f\"./resultsClassifier/{MODEL_NAME}-{saveName}.jpg\") if save else plt.show()"
   ]
  },
  {
   "cell_type": "code",
   "execution_count": 23,
   "metadata": {},
   "outputs": [],
   "source": [
    "from sklearn import preprocessing\n",
    "scaler = preprocessing.StandardScaler().fit(X_train)\n",
    "X_train_scaled = scaler.transform(X_train)\n",
    "X_val_scaled = scaler.transform(X_val)"
   ]
  },
  {
   "cell_type": "code",
   "execution_count": 24,
   "metadata": {},
   "outputs": [],
   "source": [
    "y_predVal = evalSVM(X_train_scaled, X_val_scaled, y_train)"
   ]
  },
  {
   "cell_type": "code",
   "execution_count": 25,
   "metadata": {},
   "outputs": [
    {
     "name": "stderr",
     "output_type": "stream",
     "text": [
      "100%|██████████| 113/113 [00:00<00:00, 186.65it/s]\n"
     ]
    },
    {
     "name": "stdout",
     "output_type": "stream",
     "text": [
      "First 5 ranks: [0.01769912 0.01769912 0.01769912 0.01769912 0.02654867]\n"
     ]
    },
    {
     "data": {
      "image/png": "[encoded data removed]",
      "text/plain": [
       "<Figure size 432x288 with 1 Axes>"
      ]
     },
     "metadata": {
      "needs_background": "light"
     },
     "output_type": "display_data"
    }
   ],
   "source": [
    "ranks = np.zeros(99)\n",
    "for i in tqdm(range(y_val.shape[0])):\n",
    "    label = y_val[i]\n",
    "    labelsProbs = y_predVal[i,:]\n",
    "    for i in range(1, 100):\n",
    "        ranks[i-1] += calcRankN(labelsProbs, label, n=i)\n",
    "\n",
    "ranks /= len(filenames_val)\n",
    "print(f\"First 5 ranks: {ranks[:5]}\")\n",
    "displayCMC(ranks)"
   ]
  },
  {
   "cell_type": "code",
   "execution_count": 26,
   "metadata": {},
   "outputs": [
    {
     "name": "stderr",
     "output_type": "stream",
     "text": [
      "100%|██████████| 250/250 [00:52<00:00,  4.80it/s]\n"
     ]
    }
   ],
   "source": [
    "X_test = []\n",
    "for currFile in tqdm(filenames_test):\n",
    "    featureVec = extractLBP(currFile)\n",
    "    X_test.append(featureVec)\n",
    "\n",
    "X_test = np.array(X_test)\n",
    "y_test = np.array(labels_test)"
   ]
  },
  {
   "cell_type": "code",
   "execution_count": 27,
   "metadata": {},
   "outputs": [],
   "source": [
    "X_test_scaled = scaler.transform(X_test)"
   ]
  },
  {
   "cell_type": "code",
   "execution_count": 28,
   "metadata": {},
   "outputs": [],
   "source": [
    "y_predTest = evalSVM(X_train_scaled, X_test_scaled, y_train)"
   ]
  },
  {
   "cell_type": "code",
   "execution_count": 30,
   "metadata": {},
   "outputs": [
    {
     "name": "stderr",
     "output_type": "stream",
     "text": [
      "100%|██████████| 250/250 [00:00<00:00, 356.41it/s]\n"
     ]
    },
    {
     "name": "stdout",
     "output_type": "stream",
     "text": [
      "First 5 ranks: [0.008 0.016 0.024 0.028 0.032]\n"
     ]
    },
    {
     "data": {
      "image/png": "[encoded data removed]",
      "text/plain": [
       "<Figure size 432x288 with 1 Axes>"
      ]
     },
     "metadata": {
      "needs_background": "light"
     },
     "output_type": "display_data"
    }
   ],
   "source": [
    "ranks = np.zeros(99)\n",
    "for i in tqdm(range(y_test.shape[0])):\n",
    "    label = y_test[i]\n",
    "    labelsProbs = y_predTest[i,:]\n",
    "    for i in range(1, 100):\n",
    "        ranks[i-1] += calcRankN(labelsProbs, label, n=i)\n",
    "\n",
    "ranks /= len(filenames_test)\n",
    "print(f\"First 5 ranks: {ranks[:5]}\")\n",
    "displayCMC(ranks)"
   ]
  },
  {
   "cell_type": "code",
   "execution_count": 44,
   "metadata": {},
   "outputs": [
    {
     "name": "stderr",
     "output_type": "stream",
     "text": [
      "100%|██████████| 250/250 [23:30<00:00,  5.64s/it]\n"
     ]
    },
    {
     "data": {
      "image/png": "[encoded data removed]",
      "text/plain": [
       "<Figure size 432x288 with 1 Axes>"
      ]
     },
     "metadata": {
      "needs_background": "light"
     },
     "output_type": "display_data"
    }
   ],
   "source": [
    "# Using chi-squared for comparisons:\n",
    "def chi2_distance(A, B):\n",
    "    chi = 0.5 * np.sum([((a - b) ** 2) / (a + b)\n",
    "                        for (a, b) in zip(A, B)]) \n",
    "    return chi\n",
    "\n",
    "ranks = np.zeros(99)\n",
    "for i in tqdm(range(y_test.shape[0])):\n",
    "    label = y_test[i]\n",
    "    currVec = X_test_scaled[i,:]\n",
    "    distances = np.apply_along_axis(lambda x: chi2_distance(x,currVec), 1, X_train_scaled)\n",
    "    sortedIx = np.argsort(distances)\n",
    "    labelsSorted = y_train[sortedIx]\n",
    "    labelsUnique = np.unique(labelsSorted)\n",
    "    for i in range(1, 100):\n",
    "        add = 1 if label in labelsUnique[:i] else 0\n",
    "        ranks[i-1] += add\n",
    "\n",
    "ranks /= len(filenames_test)\n",
    "displayCMC(ranks)"
   ]
  },
  {
   "cell_type": "code",
   "execution_count": 53,
   "metadata": {},
   "outputs": [],
   "source": [
    "\n",
    "def extractHOG(filename):\n",
    "    img = cv2.imread(filename)\n",
    "    img = cv2.cvtColor(img, cv2.COLOR_BGR2GRAY)\n",
    "    img = cv2.resize(img, (IMAGE_HEIGHT, IMAGE_WIDTH))\n",
    "    imgEq = exposure.equalize_hist(img)\n",
    "    hog = feature.hog(imgEq, orientations=8, pixels_per_cell=(8,8), cells_per_block=(2,2))\n",
    "    return hog / np.linalg.norm(hog)"
   ]
  }
 ],
 "metadata": {
  "interpreter": {
   "hash": "ccb218f6f95b30277fee111b20de9c97f5b3d6e5c23fbcba94dee779a860256d"
  },
  "kernelspec": {
   "display_name": "Python 3.9.5 64-bit ('base': conda)",
   "language": "python",
   "name": "python3"
  },
  "language_info": {
   "codemirror_mode": {
    "name": "ipython",
    "version": 3
   },
   "file_extension": ".py",
   "mimetype": "text/x-python",
   "name": "python",
   "nbconvert_exporter": "python",
   "pygments_lexer": "ipython3",
   "version": "3.9.5"
  },
  "orig_nbformat": 4
 },
 "nbformat": 4,
 "nbformat_minor": 2
}
